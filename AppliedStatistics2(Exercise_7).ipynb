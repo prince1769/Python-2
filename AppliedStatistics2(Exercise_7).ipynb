{
  "nbformat": 4,
  "nbformat_minor": 0,
  "metadata": {
    "colab": {
      "provenance": []
    },
    "kernelspec": {
      "name": "python3",
      "display_name": "Python 3"
    },
    "language_info": {
      "name": "python"
    }
  },
  "cells": [
    {
      "cell_type": "code",
      "execution_count": null,
      "metadata": {
        "id": "sdH65KNLwMMX"
      },
      "outputs": [],
      "source": [
        "#numpy basics\n",
        "#creating array"
      ]
    },
    {
      "cell_type": "code",
      "source": [
        "import array\n",
        "arr=array.array(\"I\",[2,4,6,8,10,12,14,16])\n",
        "#print the original array\n",
        "print(\"New created array:\",end=\"\")\n",
        "for I in range (0,7):\n",
        "  print(arr[I], end=\"\")\n",
        "  print(\"\\r\")"
      ],
      "metadata": {
        "id": "f0XeY3piyeoU",
        "colab": {
          "base_uri": "https://localhost:8080/"
        },
        "outputId": "1a98a537-45f5-4477-ed41-a715aeb368f7"
      },
      "execution_count": 6,
      "outputs": [
        {
          "output_type": "stream",
          "name": "stdout",
          "text": [
            "New created array:2\r\n",
            "4\r\n",
            "6\r\n",
            "8\r\n",
            "10\r\n",
            "12\r\n",
            "14\r\n"
          ]
        }
      ]
    },
    {
      "cell_type": "code",
      "source": [
        "#how to access the dataframe with a boolean index\n",
        "import pandas as pd\n",
        "dict={'name':[\"Suman\",\"Prince\",\"Rudra\",\"Aahan\"],\n",
        "      'age':[\"28\",\"39\",\"34\",\"36\"]}\n",
        "info=pd.DataFrame(dict,index=[True,True,False,True])\n",
        "print(info)"
      ],
      "metadata": {
        "colab": {
          "base_uri": "https://localhost:8080/"
        },
        "id": "TErAH8Is4ROe",
        "outputId": "f49a6f70-3f63-472c-ca29-0d7601088ffc"
      },
      "execution_count": 10,
      "outputs": [
        {
          "output_type": "stream",
          "name": "stdout",
          "text": [
            "         name age\n",
            "True    Suman  28\n",
            "True   Prince  39\n",
            "False   Rudra  34\n",
            "True    Aahan  36\n"
          ]
        }
      ]
    },
    {
      "cell_type": "code",
      "source": [
        "#Accessing DataFrame using .loc[] function\n",
        "import pandas as pd\n",
        "dict={'name':[\"Suman\",\"Prince\",\"Rudra\",\"Aahan\"],\n",
        "      'age':[\"28\",\"39\",\"34\",\"36\"]}\n",
        "info=pd.DataFrame(dict,index=[True,True,False,True])\n",
        "print(info.loc[True])"
      ],
      "metadata": {
        "colab": {
          "base_uri": "https://localhost:8080/"
        },
        "id": "zkkBgOQ36xfg",
        "outputId": "c78021c5-5a91-4074-cdc6-d154834d13d5"
      },
      "execution_count": 26,
      "outputs": [
        {
          "output_type": "stream",
          "name": "stdout",
          "text": [
            "        name age\n",
            "True   Suman  28\n",
            "True  Prince  39\n",
            "True   Aahan  36\n"
          ]
        }
      ]
    },
    {
      "cell_type": "code",
      "source": [
        "#Reshaping array\n",
        "import numpy as np\n",
        "arr = np.arange(16)\n",
        "print(\"The original array is: \\n\" , arr)\n",
        "\n",
        "#shape narray with 2 rows and 8 columns\n",
        "arr = np.arange(16).reshape(2,8)\n",
        "print(\"\\nreshapedarray: \\n\" , arr)\n",
        "arr = np.arange(16).reshape(8,2)\n",
        "print(\"\\nreshapedarray: \\n\" , arr)\n",
        "arr = np.arange(16).reshape(4,4)\n",
        "print(\"\\nreshapedarray: \\n\" , arr)\n",
        "arr = np.arange(16).reshape(1,16)\n",
        "print(\"\\nreshapedarray: \\n\" , arr)\n",
        "print(\"\\n \\n                                                                 END OF EXERCISE\")"
      ],
      "metadata": {
        "colab": {
          "base_uri": "https://localhost:8080/"
        },
        "id": "BYZW0MvV7RA4",
        "outputId": "e7fc56c8-053b-4c66-a396-fd4d3cbe46aa"
      },
      "execution_count": 27,
      "outputs": [
        {
          "output_type": "stream",
          "name": "stdout",
          "text": [
            "The original array is: \n",
            " [ 0  1  2  3  4  5  6  7  8  9 10 11 12 13 14 15]\n",
            "\n",
            "reshapedarray: \n",
            " [[ 0  1  2  3  4  5  6  7]\n",
            " [ 8  9 10 11 12 13 14 15]]\n",
            "\n",
            "reshapedarray: \n",
            " [[ 0  1]\n",
            " [ 2  3]\n",
            " [ 4  5]\n",
            " [ 6  7]\n",
            " [ 8  9]\n",
            " [10 11]\n",
            " [12 13]\n",
            " [14 15]]\n",
            "\n",
            "reshapedarray: \n",
            " [[ 0  1  2  3]\n",
            " [ 4  5  6  7]\n",
            " [ 8  9 10 11]\n",
            " [12 13 14 15]]\n",
            "\n",
            "reshapedarray: \n",
            " [[ 0  1  2  3  4  5  6  7  8  9 10 11 12 13 14 15]]\n",
            "\n",
            " \n",
            "                                                                 END OF EXERCISE\n"
          ]
        }
      ]
    }
  ]
}